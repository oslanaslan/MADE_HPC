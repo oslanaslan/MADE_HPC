{
 "cells": [
  {
   "cell_type": "code",
   "execution_count": 114,
   "metadata": {},
   "outputs": [],
   "source": [
    "import os\n",
    "import pandas as pd\n",
    "import subprocess\n",
    "import time\n",
    "import matplotlib.pyplot as plt\n",
    "from tqdm import tqdm"
   ]
  },
  {
   "cell_type": "code",
   "execution_count": 101,
   "metadata": {},
   "outputs": [],
   "source": [
    "INPUT_NAME = 'results'"
   ]
  },
  {
   "cell_type": "code",
   "execution_count": 102,
   "metadata": {},
   "outputs": [
    {
     "name": "stdout",
     "output_type": "stream",
     "text": [
      "(4000, 4)\n"
     ]
    },
    {
     "data": {
      "text/html": [
       "<div>\n",
       "<style scoped>\n",
       "    .dataframe tbody tr th:only-of-type {\n",
       "        vertical-align: middle;\n",
       "    }\n",
       "\n",
       "    .dataframe tbody tr th {\n",
       "        vertical-align: top;\n",
       "    }\n",
       "\n",
       "    .dataframe thead th {\n",
       "        text-align: right;\n",
       "    }\n",
       "</style>\n",
       "<table border=\"1\" class=\"dataframe\">\n",
       "  <thead>\n",
       "    <tr style=\"text-align: right;\">\n",
       "      <th></th>\n",
       "      <th>rank</th>\n",
       "      <th>step</th>\n",
       "      <th>state</th>\n",
       "      <th>rank</th>\n",
       "    </tr>\n",
       "  </thead>\n",
       "  <tbody>\n",
       "    <tr>\n",
       "      <th>0</th>\n",
       "      <td>0</td>\n",
       "      <td>0</td>\n",
       "      <td>1100011111101111111111101</td>\n",
       "      <td>0</td>\n",
       "    </tr>\n",
       "    <tr>\n",
       "      <th>1</th>\n",
       "      <td>0</td>\n",
       "      <td>1</td>\n",
       "      <td>1100110000111000000000111</td>\n",
       "      <td>0</td>\n",
       "    </tr>\n",
       "    <tr>\n",
       "      <th>2</th>\n",
       "      <td>0</td>\n",
       "      <td>2</td>\n",
       "      <td>0101110001101000000001101</td>\n",
       "      <td>0</td>\n",
       "    </tr>\n",
       "    <tr>\n",
       "      <th>3</th>\n",
       "      <td>0</td>\n",
       "      <td>3</td>\n",
       "      <td>1111010011111000000011111</td>\n",
       "      <td>0</td>\n",
       "    </tr>\n",
       "    <tr>\n",
       "      <th>4</th>\n",
       "      <td>0</td>\n",
       "      <td>4</td>\n",
       "      <td>1001110110001000000110000</td>\n",
       "      <td>0</td>\n",
       "    </tr>\n",
       "  </tbody>\n",
       "</table>\n",
       "</div>"
      ],
      "text/plain": [
       "  rank  step                      state  rank \n",
       "0    0     0  1100011111101111111111101      0\n",
       "1    0     1  1100110000111000000000111      0\n",
       "2    0     2  0101110001101000000001101      0\n",
       "3    0     3  1111010011111000000011111      0\n",
       "4    0     4  1001110110001000000110000      0"
      ]
     },
     "execution_count": 102,
     "metadata": {},
     "output_type": "execute_result"
    }
   ],
   "source": [
    "files_lst = [itm for itm in os.listdir(INPUT_NAME) if '.csv' in itm]\n",
    "df_lst = []\n",
    "\n",
    "for name in files_lst:\n",
    "    filename = os.path.join(INPUT_NAME, name)\n",
    "    df = pd.read_csv(filename, sep=';', dtype=str)\n",
    "    df_lst.append(df)\n",
    "\n",
    "df = pd.concat(df_lst, axis=0)\n",
    "df['rank '] = df['rank'].astype(int)\n",
    "df['step'] = df['step'].astype(int)\n",
    "print(df.shape)\n",
    "df.head()"
   ]
  },
  {
   "cell_type": "code",
   "execution_count": 103,
   "metadata": {},
   "outputs": [
    {
     "name": "stdout",
     "output_type": "stream",
     "text": [
      "(1000,)\n",
      "101\n"
     ]
    },
    {
     "data": {
      "text/plain": [
       "step\n",
       "0    1100011111101111111111101111010011011111111111...\n",
       "1    1100110000111000000000111001110111110000000000...\n",
       "2    0101110001101000000001101011011100010000000000...\n",
       "3    1111010011111000000011111111110100110000000000...\n",
       "4    1001110110001000000110000000011101110000000001...\n",
       "Name: state, dtype: object"
      ]
     },
     "execution_count": 103,
     "metadata": {},
     "output_type": "execute_result"
    }
   ],
   "source": [
    "df = (df\n",
    "    .sort_values(['step', 'rank'])\n",
    "    .groupby('step')['state']\n",
    "    .agg(list)\n",
    "    .apply(lambda x: ''.join(x) + '\\n')\n",
    "    .sort_index()\n",
    ")\n",
    "print(df.shape)\n",
    "print(len(df[0]))\n",
    "df.head()"
   ]
  },
  {
   "cell_type": "markdown",
   "metadata": {},
   "source": [
    "### Time measure"
   ]
  },
  {
   "cell_type": "code",
   "execution_count": 123,
   "metadata": {},
   "outputs": [
    {
     "name": "stderr",
     "output_type": "stream",
     "text": [
      "mkdir: cannot create directory ‘results’: File exists\n",
      " 75%|███████▌  | 3/4 [00:01<00:00,  2.32it/s]--------------------------------------------------------------------------\n",
      "There are not enough slots available in the system to satisfy the 8\n",
      "slots that were requested by the application:\n",
      "\n",
      "  ./a.out\n",
      "\n",
      "Either request fewer slots for your application, or make more slots\n",
      "available for use.\n",
      "\n",
      "A \"slot\" is the Open MPI term for an allocatable unit where we can\n",
      "launch a process.  The number of slots available are defined by the\n",
      "environment in which Open MPI processes are run:\n",
      "\n",
      "  1. Hostfile, via \"slots=N\" clauses (N defaults to number of\n",
      "     processor cores if not provided)\n",
      "  2. The --host command line parameter, via a \":N\" suffix on the\n",
      "     hostname (N defaults to 1 if not provided)\n",
      "  3. Resource manager (e.g., SLURM, PBS/Torque, LSF, etc.)\n",
      "  4. If none of a hostfile, the --host command line parameter, or an\n",
      "     RM is present, Open MPI defaults to the number of processor cores\n",
      "\n",
      "In all the above cases, if you want Open MPI to default to the number\n",
      "of hardware threads instead of the number of processor cores, use the\n",
      "--use-hwthread-cpus option.\n",
      "\n",
      "Alternatively, you can use the --oversubscribe option to ignore the\n",
      "number of available slots when deciding the number of processes to\n",
      "launch.\n",
      "--------------------------------------------------------------------------\n",
      "100%|██████████| 4/4 [00:01<00:00,  2.89it/s]\n"
     ]
    }
   ],
   "source": [
    "subprocess.run([\"mkdir\", \"results\"])\n",
    "subprocess.run([\"mpic++\", \"worker.h\", \"worker.cpp\", \"main.cpp\"])\n",
    "time_lst = []\n",
    "proc_cnt_lst = [str(i) for i in range(2, 9, 2)]\n",
    "state_len = \"5000\"\n",
    "iter_cnt = \"1000\"\n",
    "\n",
    "for proc in tqdm(proc_cnt_lst):\n",
    "    start_time = time.time()\n",
    "    subprocess.run([\"mpirun\", \"--allow-run-as-root\", \"-n\", proc, \"./a.out\", state_len, iter_cnt, \">>\", \"rule_res.csv\"])\n",
    "    duration = time.time() - start_time\n",
    "    time_lst.append(duration)"
   ]
  },
  {
   "cell_type": "code",
   "execution_count": 124,
   "metadata": {},
   "outputs": [
    {
     "data": {
      "image/png": "[encoded data removed]",
      "text/plain": [
       "<Figure size 1080x720 with 1 Axes>"
      ]
     },
     "metadata": {
      "needs_background": "light"
     },
     "output_type": "display_data"
    }
   ],
   "source": [
    "plt.figure(figsize=(15, 10))\n",
    "plt.plot(proc_cnt_lst, time_lst, marker='o')\n",
    "plt.title('Work time')\n",
    "plt.xlabel('Proc cnt')\n",
    "plt.ylabel('Time')\n",
    "plt.grid()\n",
    "plt.show()"
   ]
  },
  {
   "cell_type": "markdown",
   "metadata": {},
   "source": [
    "Количество параллельных процессов по количеству ядер в процессоре. Выделить больше не получается"
   ]
  },
  {
   "cell_type": "code",
   "execution_count": null,
   "metadata": {},
   "outputs": [],
   "source": []
  }
 ],
 "metadata": {
  "kernelspec": {
   "display_name": "Python 3.10.6 64-bit",
   "language": "python",
   "name": "python3"
  },
  "language_info": {
   "codemirror_mode": {
    "name": "ipython",
    "version": 3
   },
   "file_extension": ".py",
   "mimetype": "text/x-python",
   "name": "python",
   "nbconvert_exporter": "python",
   "pygments_lexer": "ipython3",
   "version": "3.10.6"
  },
  "orig_nbformat": 4,
  "vscode": {
   "interpreter": {
    "hash": "916dbcbb3f70747c44a77c7bcd40155683ae19c65e1c03b4aa3499c5328201f1"
   }
  }
 },
 "nbformat": 4,
 "nbformat_minor": 2
}
