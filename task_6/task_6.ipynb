{
 "cells": [
  {
   "cell_type": "code",
   "execution_count": 1,
   "metadata": {},
   "outputs": [],
   "source": [
    "%load_ext autoreload\n",
    "%autoreload 2"
   ]
  },
  {
   "cell_type": "code",
   "execution_count": 2,
   "metadata": {},
   "outputs": [],
   "source": [
    "import time\n",
    "import warnings\n",
    "from math import floor\n",
    "\n",
    "import SALib\n",
    "import numpy as np\n",
    "import pandas as pd\n",
    "from tqdm import tqdm\n",
    "from SALib.sample import saltelli\n",
    "from SALib.analyze import sobol\n",
    "from numba import jit, njit, prange, vectorize, float64\n",
    "from multiprocessing import Pool"
   ]
  },
  {
   "cell_type": "code",
   "execution_count": 3,
   "metadata": {},
   "outputs": [],
   "source": [
    "warnings.filterwarnings(\"ignore\")"
   ]
  },
  {
   "cell_type": "markdown",
   "metadata": {},
   "source": [
    "### 1. Проведите анализ чувствительности, проверьте сходимость, измерьте тайминги, 25 баллов"
   ]
  },
  {
   "cell_type": "code",
   "execution_count": 53,
   "metadata": {},
   "outputs": [],
   "source": [
    "def test_func(a, b, c):\n",
    "    res = (a/2)**2 + (b/3)**2 - c\n",
    "    \n",
    "    return res"
   ]
  },
  {
   "cell_type": "code",
   "execution_count": 59,
   "metadata": {},
   "outputs": [
    {
     "name": "stderr",
     "output_type": "stream",
     "text": [
      "/var/folders/3x/vv95p66j6658cvlngdhhfd1r0000gq/T/ipykernel_94458/809134031.py:7: DeprecationWarning: `salib.sample.saltelli` will be removed in SALib 1.5. Please use `salib.sample.sobol`\n",
      "  param_values = saltelli.sample(problem, n)\n"
     ]
    }
   ],
   "source": [
    "problem = {\n",
    "    'num_vars': 3,\n",
    "    'names': ['a', 'b', 'c'],\n",
    "    'bounds': [[0, 1], [0, 1], [0, 1]]\n",
    "}\n",
    "n = 2 ** 20\n",
    "param_values = saltelli.sample(problem, n)"
   ]
  },
  {
   "cell_type": "code",
   "execution_count": 60,
   "metadata": {},
   "outputs": [
    {
     "name": "stderr",
     "output_type": "stream",
     "text": [
      "100%|██████████| 8388608/8388608 [00:22<00:00, 374340.73it/s]\n"
     ]
    },
    {
     "name": "stdout",
     "output_type": "stream",
     "text": [
      "CPU times: user 21.7 s, sys: 672 ms, total: 22.3 s\n",
      "Wall time: 23 s\n"
     ]
    }
   ],
   "source": [
    "%%time\n",
    "y_vals = []\n",
    "\n",
    "for a, b, n in tqdm(param_values):\n",
    "    y_vals.append(test_func(a, b, n))\n",
    "\n",
    "y_vals = np.array(y_vals)"
   ]
  },
  {
   "cell_type": "code",
   "execution_count": 61,
   "metadata": {},
   "outputs": [
    {
     "name": "stdout",
     "output_type": "stream",
     "text": [
      "[0.06173781 0.01219512 0.92606707]\n",
      "[0.0617378  0.01219512 0.92606707]\n",
      "a-b -8.846784051858014e-10\n",
      "a-c -1.646618397188604e-10\n",
      "b-c -7.282694447496851e-10\n"
     ]
    }
   ],
   "source": [
    "si = sobol.analyze(problem, y_vals)\n",
    "print(si['S1'])\n",
    "print(si['ST'])\n",
    "print(\"a-b\", si['S2'][0, 1])\n",
    "print(\"a-c\", si['S2'][0, 2])\n",
    "print(\"b-c\", si['S2'][1, 2])"
   ]
  },
  {
   "cell_type": "markdown",
   "metadata": {},
   "source": [
    "При большом количестве сэмплов (равном степени 2), получилось добиться того, что индекс стали близки нулю (хоть они формально все еще в отрицательной части)"
   ]
  },
  {
   "cell_type": "markdown",
   "metadata": {},
   "source": [
    "### 2. Ускорьте вычисления Python с использованием любой из имеющихся возможностей (PyBind11, ctypes, cython, numba)"
   ]
  },
  {
   "cell_type": "code",
   "execution_count": 96,
   "metadata": {},
   "outputs": [],
   "source": [
    "def dummy_prime(n):\n",
    "    is_prime = True\n",
    "    for i in range(2, n):\n",
    "        if n % i == 0:\n",
    "            is_prime = False\n",
    "    return is_prime\n",
    "\n",
    "\n",
    "@njit(parallel=True)\n",
    "def numba_dummy_prime(n):\n",
    "    is_prime = True\n",
    "    for i in range(2, n):\n",
    "        if n % i == 0:\n",
    "            is_prime = False\n",
    "    return is_prime"
   ]
  },
  {
   "cell_type": "code",
   "execution_count": 99,
   "metadata": {},
   "outputs": [
    {
     "name": "stdout",
     "output_type": "stream",
     "text": [
      "Время выполнения: 63.28783822059631\n"
     ]
    }
   ],
   "source": [
    "start = time.time()\n",
    "dummy_prime(1000000000)\n",
    "print(\"Время выполнения:\", time.time() - start)"
   ]
  },
  {
   "cell_type": "code",
   "execution_count": 98,
   "metadata": {},
   "outputs": [
    {
     "name": "stdout",
     "output_type": "stream",
     "text": [
      "Время выполнения ускоренного кода: 2.932878255844116\n"
     ]
    }
   ],
   "source": [
    "start = time.time()\n",
    "numba_dummy_prime(1000000000)\n",
    "print(\"Время выполнения ускоренного кода:\", time.time() - start)"
   ]
  },
  {
   "cell_type": "markdown",
   "metadata": {},
   "source": [
    "Видно существенное ускорение. Такой прирост связан с тем, что используется крайне простая функция. Во время тестов с более сложной функцией подсчета геохэша (пример ниже) такое ускорение не наблюдалось"
   ]
  },
  {
   "cell_type": "markdown",
   "metadata": {},
   "source": [
    "### 3. Попробуйте добавить параллелизм в вычисления, 25 баллов\n",
    "\n",
    "В этом разделе будем параллельно вычислять геохэши, так как вычисление геохэша по заданным координатам - довольно важная задача при работе с гео-данными.\n",
    "Для вычислений разобьем массив координат на батчи и запустим несколько процессов параллельно"
   ]
  },
  {
   "cell_type": "code",
   "execution_count": 6,
   "metadata": {},
   "outputs": [],
   "source": [
    "from geohash import chunk_encode, encode"
   ]
  },
  {
   "cell_type": "code",
   "execution_count": 7,
   "metadata": {},
   "outputs": [
    {
     "name": "stdout",
     "output_type": "stream",
     "text": [
      "210303213022011230\n"
     ]
    }
   ],
   "source": [
    "TEST_COORDS = (55.746132, 37.694568)\n",
    "print(encode(*TEST_COORDS))"
   ]
  },
  {
   "cell_type": "code",
   "execution_count": 8,
   "metadata": {},
   "outputs": [
    {
     "name": "stdout",
     "output_type": "stream",
     "text": [
      "Количество координат для перебора: 6291456\n"
     ]
    }
   ],
   "source": [
    "problem = {\n",
    "    'num_vars': 2,\n",
    "    'names': ['lat', 'lon'],\n",
    "    'bounds': [[55.0, 56.0], [37.0, 38.0]]\n",
    "}\n",
    "n = 2 ** 20\n",
    "param_values = saltelli.sample(problem, n)\n",
    "print(\"Количество координат для перебора:\", len(param_values))"
   ]
  },
  {
   "cell_type": "code",
   "execution_count": 12,
   "metadata": {},
   "outputs": [
    {
     "name": "stdout",
     "output_type": "stream",
     "text": [
      "Время последовательного перебора: 140.99510884284973\n"
     ]
    }
   ],
   "source": [
    "start = time.time()\n",
    "chunk_encode((-1, param_values))\n",
    "print(\"Время последовательного перебора:\", time.time() - start)"
   ]
  },
  {
   "cell_type": "code",
   "execution_count": 13,
   "metadata": {},
   "outputs": [
    {
     "name": "stdout",
     "output_type": "stream",
     "text": [
      "Время параллельного перебора при разделении на 4 параллельных процесса: 52.75429821014404\n"
     ]
    }
   ],
   "source": [
    "PROC_CNT = 4\n",
    "\n",
    "dataset_parts = np.split(param_values, PROC_CNT)\n",
    "start = time.time()\n",
    "\n",
    "with Pool(processes=PROC_CNT) as pool:\n",
    "    pool.map(chunk_encode, [(i, itm) for i, itm in enumerate(dataset_parts)])\n",
    "\n",
    "print(f\"Время параллельного перебора при разделении на {PROC_CNT} параллельных процесса:\", time.time() - start)"
   ]
  },
  {
   "cell_type": "markdown",
   "metadata": {},
   "source": [
    "Видно, что после разделения обработки данных на параллельные процессы, время работы сильно сократилось (даже с учетом накладных расходов на выделение ресурсов при создании процессов)"
   ]
  },
  {
   "cell_type": "code",
   "execution_count": null,
   "metadata": {},
   "outputs": [],
   "source": []
  }
 ],
 "metadata": {
  "kernelspec": {
   "display_name": "Python 3.9.11 ('base_env')",
   "language": "python",
   "name": "python3"
  },
  "language_info": {
   "codemirror_mode": {
    "name": "ipython",
    "version": 3
   },
   "file_extension": ".py",
   "mimetype": "text/x-python",
   "name": "python",
   "nbconvert_exporter": "python",
   "pygments_lexer": "ipython3",
   "version": "3.9.11"
  },
  "orig_nbformat": 4,
  "vscode": {
   "interpreter": {
    "hash": "43b3181a660f196a939c2b4d04e92c2872129d019750da2fd7b4c6627179ed9c"
   }
  }
 },
 "nbformat": 4,
 "nbformat_minor": 2
}
